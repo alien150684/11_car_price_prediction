{
 "cells": [
  {
   "cell_type": "markdown",
   "metadata": {
    "toc": true
   },
   "source": [
    "<h1>Содержание<span class=\"tocSkip\"></span></h1>\n",
    "<div class=\"toc\"><ul class=\"toc-item\"><li><span><a href=\"#Подготовка-данных\" data-toc-modified-id=\"Подготовка-данных-1\"><span class=\"toc-item-num\">1&nbsp;&nbsp;</span>Подготовка данных</a></span></li><li><span><a href=\"#Обучение-моделей\" data-toc-modified-id=\"Обучение-моделей-2\"><span class=\"toc-item-num\">2&nbsp;&nbsp;</span>Обучение моделей</a></span><ul class=\"toc-item\"><li><span><a href=\"#Константая-(baseline)-модель\" data-toc-modified-id=\"Константая-(baseline)-модель-2.1\"><span class=\"toc-item-num\">2.1&nbsp;&nbsp;</span>Константая (baseline) модель</a></span></li><li><span><a href=\"#Линейная-регрессия\" data-toc-modified-id=\"Линейная-регрессия-2.2\"><span class=\"toc-item-num\">2.2&nbsp;&nbsp;</span>Линейная регрессия</a></span></li><li><span><a href=\"#Случайный-лес-(алгоритм-бэггинга)\" data-toc-modified-id=\"Случайный-лес-(алгоритм-бэггинга)-2.3\"><span class=\"toc-item-num\">2.3&nbsp;&nbsp;</span>Случайный лес (алгоритм бэггинга)</a></span></li><li><span><a href=\"#Построение-модели-градиентного-бустинга-с-помощью-LightGBM\" data-toc-modified-id=\"Построение-модели-градиентного-бустинга-с-помощью-LightGBM-2.4\"><span class=\"toc-item-num\">2.4&nbsp;&nbsp;</span>Построение модели градиентного бустинга с помощью LightGBM</a></span></li></ul></li><li><span><a href=\"#Анализ-моделей\" data-toc-modified-id=\"Анализ-моделей-3\"><span class=\"toc-item-num\">3&nbsp;&nbsp;</span>Анализ моделей</a></span></li><li><span><a href=\"#Оценка-качества-выбранной-модели-на-тестовой-выборке\" data-toc-modified-id=\"Оценка-качества-выбранной-модели-на-тестовой-выборке-4\"><span class=\"toc-item-num\">4&nbsp;&nbsp;</span>Оценка качества выбранной модели на тестовой выборке</a></span></li><li><span><a href=\"#Чек-лист-проверки\" data-toc-modified-id=\"Чек-лист-проверки-5\"><span class=\"toc-item-num\">5&nbsp;&nbsp;</span>Чек-лист проверки</a></span></li></ul></div>"
   ]
  },
  {
   "cell_type": "markdown",
   "metadata": {},
   "source": [
    "# Прогнозирование стоимости автомобиля"
   ]
  },
  {
   "cell_type": "markdown",
   "metadata": {},
   "source": [
    "Сервис по продаже автомобилей с пробегом «Не бит, не крашен» разрабатывает приложение для привлечения новых клиентов. В нём можно быстро узнать рыночную стоимость своего автомобиля. В вашем распоряжении исторические данные: технические характеристики, комплектации и цены автомобилей. Необходимо построить модель для прогнозирования рыночной стоимости автомобиля.\n",
    "\n",
    "Заказчику важны:\n",
    "\n",
    "- качество предсказания;\n",
    "- скорость предсказания;\n",
    "- время обучения.\n",
    "\n",
    "Признаки\n",
    "- DateCrawled — дата скачивания анкеты из базы\n",
    "- VehicleType — тип автомобильного кузова\n",
    "- RegistrationYear — год регистрации автомобиля\n",
    "- Gearbox — тип коробки передач\n",
    "- Power — мощность (л. с.)\n",
    "- Model — модель автомобиля\n",
    "- Kilometer — пробег (км)\n",
    "- RegistrationMonth — месяц регистрации автомобиля\n",
    "- FuelType — тип топлива\n",
    "- Brand — марка автомобиля\n",
    "- NotRepaired — была машина в ремонте или нет\n",
    "- DateCreated — дата создания анкеты\n",
    "- NumberOfPictures — количество фотографий автомобиля\n",
    "- PostalCode — почтовый индекс владельца анкеты (пользователя)\n",
    "- LastSeen — дата последней активности пользователя\n",
    "\n",
    "Целевой признак\n",
    "- Price — цена (евро)"
   ]
  },
  {
   "cell_type": "markdown",
   "metadata": {},
   "source": [
    "## Подготовка данных"
   ]
  },
  {
   "cell_type": "code",
   "execution_count": 2,
   "metadata": {
    "scrolled": true
   },
   "outputs": [],
   "source": [
    "import pandas as pd\n",
    "# отображение ВСЕХ столбцов\n",
    "pd.options.display.max_columns = None\n",
    "\n",
    "import numpy as np\n",
    "import matplotlib.pyplot as plt\n",
    "\n",
    "# модуль для разделения выборки на части и оценки качетсва моделей кросс-валидоцией\n",
    "from sklearn.model_selection import train_test_split, cross_val_score\n",
    "\n",
    "# пайплайны позволяют объединять различные шаги препроцессинга и этап обучения модели\n",
    "from sklearn.pipeline import Pipeline\n",
    "# заполнение пропусков\n",
    "from sklearn.impute import SimpleImputer\n",
    "# кодирование категориальных признаков\n",
    "from sklearn.preprocessing import OneHotEncoder\n",
    "\n",
    "from sklearn.compose import ColumnTransformer\n",
    "\n",
    "# модуль для масштабирования числовых признаков\n",
    "from sklearn.preprocessing import StandardScaler\n",
    "\n",
    "# алгорит для обучения baseline моделей\n",
    "from sklearn.dummy import DummyRegressor\n",
    "\n",
    "# импортируем алгоритм линейной регрессии\n",
    "from sklearn.linear_model import LinearRegression\n",
    "\n",
    "# импортируем алгоритм случайного леса\n",
    "from sklearn.ensemble import RandomForestRegressor\n",
    "\n",
    "# импортируем модель градиентного бустинга\n",
    "from lightgbm import LGBMRegressor\n",
    "\n",
    "# импортируем модуль подбора гиперпараметров модели\n",
    "from sklearn.model_selection import GridSearchCV\n",
    "\n",
    "# функции метрик\n",
    "from sklearn.metrics import mean_squared_error as mse\n",
    "\n",
    "from datetime import datetime\n",
    "\n",
    "# игнорирование предупреждений\n",
    "import warnings\n",
    "warnings.filterwarnings('ignore')"
   ]
  },
  {
   "cell_type": "code",
   "execution_count": 3,
   "metadata": {},
   "outputs": [
    {
     "name": "stdout",
     "output_type": "stream",
     "text": [
      "<class 'pandas.core.frame.DataFrame'>\n",
      "RangeIndex: 354369 entries, 0 to 354368\n",
      "Data columns (total 16 columns):\n",
      " #   Column             Non-Null Count   Dtype \n",
      "---  ------             --------------   ----- \n",
      " 0   DateCrawled        354369 non-null  object\n",
      " 1   Price              354369 non-null  int64 \n",
      " 2   VehicleType        316879 non-null  object\n",
      " 3   RegistrationYear   354369 non-null  int64 \n",
      " 4   Gearbox            334536 non-null  object\n",
      " 5   Power              354369 non-null  int64 \n",
      " 6   Model              334664 non-null  object\n",
      " 7   Kilometer          354369 non-null  int64 \n",
      " 8   RegistrationMonth  354369 non-null  int64 \n",
      " 9   FuelType           321474 non-null  object\n",
      " 10  Brand              354369 non-null  object\n",
      " 11  NotRepaired        283215 non-null  object\n",
      " 12  DateCreated        354369 non-null  object\n",
      " 13  NumberOfPictures   354369 non-null  int64 \n",
      " 14  PostalCode         354369 non-null  int64 \n",
      " 15  LastSeen           354369 non-null  object\n",
      "dtypes: int64(7), object(9)\n",
      "memory usage: 43.3+ MB\n"
     ]
    }
   ],
   "source": [
    "df = pd.read_csv('/datasets/autos.csv')\n",
    "# display(df.head())\n",
    "df.info()"
   ]
  },
  {
   "cell_type": "markdown",
   "metadata": {},
   "source": [
    "**Выводы** \n",
    "1. Признаки 'DateCrawled', 'DateCreated', 'NumberOfPictures', 'PostalCode', 'LastSeen' бесполезны для целей прогнозирования. Их можно удалить.\n",
    "2. Ряд столбцов содержат пропуски. Их нужно заполнить.\n",
    "3. Числовые признаки перед обучением модели линейной регрессии необходимо привести к одному масштабу."
   ]
  },
  {
   "cell_type": "code",
   "execution_count": 4,
   "metadata": {
    "scrolled": true
   },
   "outputs": [],
   "source": [
    "# Удаляем ненужные столбцы\n",
    "df.drop(['DateCrawled', 'DateCreated', 'NumberOfPictures', 'PostalCode', 'LastSeen'], axis=1, inplace=True)\n",
    "\n",
    "# Создадим списки категориальных и числовых признаков\n",
    "cat_features = df.select_dtypes(include='object').columns\n",
    "num_features = df.select_dtypes(exclude='object').columns"
   ]
  },
  {
   "cell_type": "code",
   "execution_count": 5,
   "metadata": {
    "scrolled": false
   },
   "outputs": [
    {
     "data": {
      "text/plain": [
       "VehicleType    37490\n",
       "Gearbox        19833\n",
       "Model          19705\n",
       "FuelType       32895\n",
       "Brand              0\n",
       "NotRepaired    71154\n",
       "dtype: int64"
      ]
     },
     "metadata": {},
     "output_type": "display_data"
    },
    {
     "data": {
      "text/plain": [
       "Price                0\n",
       "RegistrationYear     0\n",
       "Power                0\n",
       "Kilometer            0\n",
       "RegistrationMonth    0\n",
       "dtype: int64"
      ]
     },
     "metadata": {},
     "output_type": "display_data"
    }
   ],
   "source": [
    "# Определим количество пропусков в столбцах с категориальными и числовыми признаками\n",
    "display(\n",
    "        df[cat_features].isna().sum(),\n",
    "        df[num_features].isna().sum()\n",
    "        )\n",
    "        "
   ]
  },
  {
   "cell_type": "markdown",
   "metadata": {},
   "source": [
    "**Вывод**. Пропуски есть только в столбцах с категориальными признаками. Их можно заполнить значением 'unknown'."
   ]
  },
  {
   "cell_type": "code",
   "execution_count": 6,
   "metadata": {},
   "outputs": [
    {
     "data": {
      "image/png": "[encoded data removed]",
      "text/plain": [
       "<Figure size 1080x576 with 4 Axes>"
      ]
     },
     "metadata": {
      "needs_background": "light"
     },
     "output_type": "display_data"
    }
   ],
   "source": [
    "# Построим гистограммы распределения значений числовых признаков. \n",
    "# Проверим наличие редких и аномальных значений.\n",
    "\n",
    "fig, ax = plt.subplots(2, 2, figsize=(15, 8))\n",
    "\n",
    "ax[0, 0].hist(df['RegistrationYear'], bins=13, range=(1960, 2022))\n",
    "ax[0, 0].set_title('RegistrationYear')\n",
    "ax[0, 0].grid(axis='y')\n",
    "\n",
    "ax[0, 1].hist(df['Power'], bins=10, range=(0, 400))\n",
    "ax[0, 1].set_title('Power')\n",
    "ax[0, 1].grid(axis='y')\n",
    "\n",
    "ax[1, 0].hist(df['Kilometer'], bins=7)\n",
    "ax[1, 0].set_title('Kilometer')\n",
    "ax[1, 0].grid(axis='y')\n",
    "\n",
    "ax[1, 1].hist(df['Price'], bins=10)\n",
    "ax[1, 1].set_title('Price')\n",
    "ax[1, 1].grid(axis='y')\n",
    "\n",
    "plt.show()"
   ]
  },
  {
   "cell_type": "code",
   "execution_count": 7,
   "metadata": {},
   "outputs": [
    {
     "data": {
      "text/plain": [
       "array([ 0,  5,  8,  6,  7, 10, 12, 11,  2,  3,  1,  4,  9])"
      ]
     },
     "execution_count": 7,
     "metadata": {},
     "output_type": "execute_result"
    }
   ],
   "source": [
    "# Проверим наличие аномальных значений в столбце с месяцами регистрации\n",
    "df['RegistrationMonth'].unique()"
   ]
  },
  {
   "cell_type": "markdown",
   "metadata": {},
   "source": [
    "**Выводы**. В столбцах 'RegistrationYear', 'RegistrationMonth', 'Power' обнаружены редкие и аномальные значения. Их необходимо отбросить."
   ]
  },
  {
   "cell_type": "code",
   "execution_count": 8,
   "metadata": {},
   "outputs": [
    {
     "data": {
      "text/plain": [
       "(354369, 11)"
      ]
     },
     "metadata": {},
     "output_type": "display_data"
    },
    {
     "data": {
      "text/plain": [
       "(316103, 11)"
      ]
     },
     "metadata": {},
     "output_type": "display_data"
    }
   ],
   "source": [
    "df_filtered = df.loc[(df['RegistrationYear'] >= 1960) &\n",
    "                     (df['RegistrationYear'] <= 2022) &\n",
    "                     (df['RegistrationMonth'] > 0) &\n",
    "                     (df['Power'] <= 400)]\n",
    "\n",
    "display(\n",
    "        df.shape,\n",
    "        df_filtered.shape\n",
    "        )"
   ]
  },
  {
   "cell_type": "code",
   "execution_count": 9,
   "metadata": {
    "scrolled": true
   },
   "outputs": [
    {
     "data": {
      "text/plain": [
       "(252882, 10)"
      ]
     },
     "metadata": {},
     "output_type": "display_data"
    },
    {
     "data": {
      "text/plain": [
       "(63221, 10)"
      ]
     },
     "metadata": {},
     "output_type": "display_data"
    }
   ],
   "source": [
    "# Отделим целевой признак от остальных.\n",
    "X = df_filtered.drop(['Price'], axis=1)\n",
    "y = df_filtered['Price']\n",
    "\n",
    "# Отделим 20% данных для тестовой выборки.\n",
    "X_train, X_test, y_train, y_test = train_test_split(\n",
    "    X, y, test_size=0.20, random_state=12345)\n",
    "\n",
    "display(X_train.shape, X_test.shape)"
   ]
  },
  {
   "cell_type": "code",
   "execution_count": 10,
   "metadata": {
    "scrolled": true
   },
   "outputs": [],
   "source": [
    "# Исключим из списка числовых обучающих признаков целевой\n",
    "num_features = num_features[1:]\n",
    "\n",
    "# Создадим трансформер признаков для предобработки данных\n",
    "numeric_transformer = Pipeline(steps=[ \n",
    "    ('scaler', StandardScaler())])\n",
    "\n",
    "categorical_transformer = Pipeline(steps=[ \n",
    "    ('imputer', SimpleImputer(strategy='constant', fill_value='unknown')), \n",
    "    ('onehot', OneHotEncoder(handle_unknown='ignore'))])\n",
    "\n",
    "# Используем ColumnTransformer для трансформации признаков \n",
    "preprocessor = ColumnTransformer(transformers=[ \n",
    "    ('num', numeric_transformer, num_features), \n",
    "    ('cat', categorical_transformer, cat_features)]) \n",
    "\n",
    "X_train_transform = preprocessor.fit_transform(X_train)\n",
    "X_test_transform = preprocessor.transform(X_test)"
   ]
  },
  {
   "cell_type": "code",
   "execution_count": 11,
   "metadata": {},
   "outputs": [
    {
     "data": {
      "text/plain": [
       "<252882x317 sparse matrix of type '<class 'numpy.float64'>'\n",
       "\twith 2528820 stored elements in Compressed Sparse Row format>"
      ]
     },
     "metadata": {},
     "output_type": "display_data"
    },
    {
     "data": {
      "text/plain": [
       "<63221x317 sparse matrix of type '<class 'numpy.float64'>'\n",
       "\twith 632210 stored elements in Compressed Sparse Row format>"
      ]
     },
     "metadata": {},
     "output_type": "display_data"
    }
   ],
   "source": [
    "display(\n",
    "        X_train_transform,\n",
    "        X_test_transform\n",
    "        )"
   ]
  },
  {
   "cell_type": "code",
   "execution_count": 157,
   "metadata": {},
   "outputs": [],
   "source": [
    "del df\n",
    "del df_filtered\n",
    "del X_train\n",
    "del X_test"
   ]
  },
  {
   "cell_type": "markdown",
   "metadata": {},
   "source": [
    "## Обучение моделей"
   ]
  },
  {
   "cell_type": "code",
   "execution_count": 158,
   "metadata": {},
   "outputs": [],
   "source": [
    "# Создадим нулевой датафрейм, куда будут записаваться данные о времени обучения и качестве прогнозирования\n",
    "\n",
    "cols_results = ['time_min', 'RMSE']\n",
    "index_results = ['baseline_model', 'linear_regression', 'random_forest', 'model_GBM']\n",
    "\n",
    "df_results = pd.DataFrame(data=0 , columns=cols_results, index=index_results)"
   ]
  },
  {
   "cell_type": "markdown",
   "metadata": {},
   "source": [
    "### Константая (baseline) модель"
   ]
  },
  {
   "cell_type": "code",
   "execution_count": 159,
   "metadata": {},
   "outputs": [
    {
     "name": "stdout",
     "output_type": "stream",
     "text": [
      "Затраты времени на обучение, мин. 0.0008510166666666667\n",
      "Оценка RMSE константной модели кросс-валидацией: 4882\n"
     ]
    }
   ],
   "source": [
    "# Время начала обучения модели\n",
    "time_begin = datetime.now()\n",
    "\n",
    "# Инициализируем модель\n",
    "dummy_reg = DummyRegressor(strategy=\"median\")\n",
    "\n",
    "# Обучаем модель на тренировочной выборке\n",
    "dummy_reg.fit(X_train_transform, y_train)\n",
    "\n",
    "# Оценим качество и время обучения модели кросс-валидацией\n",
    "RMSE_train = cross_val_score(dummy_reg, \n",
    "                             X_train_transform, \n",
    "                             y_train, \n",
    "                             scoring='neg_mean_squared_error', \n",
    "                             cv=3)\n",
    "\n",
    "# Время окончания обучения модели\n",
    "time_final = datetime.now()\n",
    "\n",
    "# Продолжительность обучения в секундах\n",
    "time_diff = time_final - time_begin\n",
    "\n",
    "# Запишем данные в таблицу\n",
    "df_results.iloc[0, 0] = time_diff.total_seconds() / 60\n",
    "df_results.iloc[0, 1] = round(abs(RMSE_train.mean())**0.5)\n",
    "\n",
    "print(\"Затраты времени на обучение, мин.\", \n",
    "      df_results.iloc[0, 0])\n",
    "\n",
    "# Оценим качество модели \n",
    "print(\"Оценка RMSE константной модели кросс-валидацией:\", \n",
    "       df_results.iloc[0, 1])"
   ]
  },
  {
   "cell_type": "markdown",
   "metadata": {
    "scrolled": true
   },
   "source": [
    "### Линейная регрессия"
   ]
  },
  {
   "cell_type": "code",
   "execution_count": 160,
   "metadata": {},
   "outputs": [
    {
     "name": "stdout",
     "output_type": "stream",
     "text": [
      "Затраты времени на обучение, мин. 2.2241659\n",
      "Оценка RMSE модели линейной регрессии кросс-валидацией: 2698\n"
     ]
    }
   ],
   "source": [
    "# Время начала обучения модели\n",
    "time_begin = datetime.now()\n",
    "\n",
    "# Инициализируем модель\n",
    "lin_reg = LinearRegression()\n",
    "\n",
    "# Обучаем модель на тренировочной выборке\n",
    "lin_reg.fit(X_train_transform, y_train)\n",
    "\n",
    "# Оценим качество и время обучения модели кросс-валидацией\n",
    "RMSE_train = cross_val_score(lin_reg, \n",
    "                            X_train_transform, \n",
    "                            y_train, \n",
    "                            scoring='neg_mean_squared_error', \n",
    "                            cv=3)\n",
    "\n",
    "# Время окончания обучения модели\n",
    "time_final = datetime.now()\n",
    "\n",
    "# Продолжительность обучения в секундах\n",
    "time_diff = time_final - time_begin\n",
    "\n",
    "# Запишем данные в таблицу\n",
    "df_results.iloc[1, 0] = time_diff.total_seconds() / 60\n",
    "df_results.iloc[1, 1] = round(abs(RMSE_train.mean())**0.5)\n",
    "\n",
    "print(\"Затраты времени на обучение, мин.\", \n",
    "      df_results.iloc[1, 0])\n",
    "\n",
    "# Оценим качество модели \n",
    "print(\"Оценка RMSE модели линейной регрессии кросс-валидацией:\", \n",
    "       df_results.iloc[1, 1])"
   ]
  },
  {
   "cell_type": "markdown",
   "metadata": {},
   "source": [
    "### Случайный лес (алгоритм бэггинга)"
   ]
  },
  {
   "cell_type": "code",
   "execution_count": 161,
   "metadata": {},
   "outputs": [
    {
     "name": "stdout",
     "output_type": "stream",
     "text": [
      "Затраты времени на обучение, мин. 5.8489347\n",
      "Оценка RMSE лучшей модели случайного леса кросс-валидацией: 2492\n",
      "Гиперпараметры лучшей модели случайного леса:  {'n_estimators': 100}\n"
     ]
    }
   ],
   "source": [
    "# Время начала обучения модели\n",
    "time_begin = datetime.now()\n",
    "\n",
    "# Варьируемые гиперпараметры:\n",
    "# n_estimators – число деревьев;\n",
    "# max_depth – глубина дерева.\n",
    "\n",
    "hyperparameters = { 'n_estimators': range (80, 101, 10) }\n",
    "\n",
    "\n",
    "# Инициализируем модель случайного леса\n",
    "random_forest = RandomForestRegressor(random_state=12345, max_depth=5)\n",
    "\n",
    "# Запускаем обучение модели случайного леса с использованием кросс-валидации\n",
    "grid = GridSearchCV(random_forest, hyperparameters, scoring='neg_mean_squared_error', cv=3)\n",
    "\n",
    "grid.fit(X_train_transform, y_train)\n",
    "\n",
    "# Время окончания обучения модели\n",
    "time_final = datetime.now()\n",
    "\n",
    "# Продолжительность обучения в секундах\n",
    "time_diff = time_final - time_begin\n",
    "\n",
    "# Запишем данные в таблицу\n",
    "df_results.iloc[2, 0] = time_diff.total_seconds() / 60\n",
    "df_results.iloc[2, 1] = round(abs(grid.best_score_)**0.5)\n",
    "\n",
    "print(\"Затраты времени на обучение, мин.\", \n",
    "      df_results.iloc[2, 0])\n",
    "\n",
    "# Оценим качество модели \n",
    "print(\"Оценка RMSE лучшей модели случайного леса кросс-валидацией:\", \n",
    "       df_results.iloc[2, 1])\n",
    "\n",
    "# Определим лучшие гиперпараметры модели\n",
    "print(f\"Гиперпараметры лучшей модели случайного леса: \", \n",
    "      grid.best_params_)"
   ]
  },
  {
   "cell_type": "markdown",
   "metadata": {},
   "source": [
    "### Построение модели градиентного бустинга с помощью LightGBM"
   ]
  },
  {
   "cell_type": "code",
   "execution_count": 162,
   "metadata": {},
   "outputs": [
    {
     "name": "stdout",
     "output_type": "stream",
     "text": [
      "Затраты времени на обучение, мин. 0.5909005333333333\n",
      "Оценка RMSE лучшей модели градиентного бустинга кросс-валидацией: 1878\n",
      "Гиперпараметры лучшей модели градиентного бустинга:  {'n_estimators': 100}\n"
     ]
    }
   ],
   "source": [
    "# Время начала обучения модели\n",
    "time_begin = datetime.now()\n",
    "\n",
    "# Варьируемые гиперпараметры:\n",
    "# n_estimators – число деревьев;\n",
    "# max_depth – глубина дерева.\n",
    "\n",
    "hyperparameters = { 'n_estimators': range (80, 101, 10) }\n",
    "\n",
    "# Инициализируем модель градиентного бустинга\n",
    "model_boosting = LGBMRegressor(random_state=12345, max_depth=5)\n",
    "\n",
    "# Запускаем обучение модели градиентного бустинга с использованием кросс-валидации\n",
    "grid = GridSearchCV(model_boosting, hyperparameters, scoring='neg_mean_squared_error', cv=3)\n",
    "\n",
    "grid.fit(X_train_transform, y_train)\n",
    "\n",
    "# Время окончания обучения модели\n",
    "time_final = datetime.now()\n",
    "\n",
    "# Продолжительность обучения в секундах\n",
    "time_diff = time_final - time_begin\n",
    "\n",
    "# Запишем данные в таблицу\n",
    "df_results.iloc[3, 0] = time_diff.total_seconds() / 60\n",
    "df_results.iloc[3, 1] = round(abs(grid.best_score_)**0.5)\n",
    "\n",
    "print(\"Затраты времени на обучение, мин.\", \n",
    "      df_results.iloc[3, 0])\n",
    "\n",
    "# Оценим качество модели \n",
    "print(\"Оценка RMSE лучшей модели градиентного бустинга кросс-валидацией:\", \n",
    "       df_results.iloc[3, 1])\n",
    "\n",
    "# Определим лучшие гиперпараметры модели\n",
    "print(f\"Гиперпараметры лучшей модели градиентного бустинга: \", \n",
    "      grid.best_params_)"
   ]
  },
  {
   "cell_type": "markdown",
   "metadata": {},
   "source": [
    "## Анализ моделей"
   ]
  },
  {
   "cell_type": "code",
   "execution_count": 163,
   "metadata": {
    "scrolled": true
   },
   "outputs": [
    {
     "data": {
      "image/png": "[encoded data removed]",
      "text/plain": [
       "<Figure size 1080x216 with 2 Axes>"
      ]
     },
     "metadata": {
      "needs_background": "light"
     },
     "output_type": "display_data"
    }
   ],
   "source": [
    "# Построим столбчатые диаграммы\n",
    "fig, ax = plt.subplots(1, 2, figsize=(15, 3))\n",
    "\n",
    "ax[0].bar(df_results.index, \n",
    "           df_results['time_min'])\n",
    "ax[0].set_title('Время обучения моделей, мин.')\n",
    "ax[0].grid(axis='y')\n",
    "\n",
    "ax[1].bar(df_results.index, \n",
    "           df_results['RMSE'])\n",
    "ax[1].set_title('RMSE модели на тестовой выборке')\n",
    "ax[1].grid(axis='y')\n",
    "\n",
    "plt.show()"
   ]
  },
  {
   "cell_type": "markdown",
   "metadata": {},
   "source": [
    "**Вывод**: наилучшие результаты по соотношению производительность/качество показала модель LightGBM."
   ]
  },
  {
   "cell_type": "markdown",
   "metadata": {},
   "source": [
    "## Оценка качества выбранной модели на тестовой выборке"
   ]
  },
  {
   "cell_type": "code",
   "execution_count": 164,
   "metadata": {},
   "outputs": [
    {
     "name": "stdout",
     "output_type": "stream",
     "text": [
      "RMSE лучшей модели градиентного бустинга на тестовой выборке: 1875.0\n"
     ]
    }
   ],
   "source": [
    "best_model_boosting = LGBMRegressor(random_state=12345, n_estimators=100, max_depth=5) \n",
    "\n",
    "# Обучаем модель на тренировочной выборке\n",
    "best_model_boosting.fit(X_train_transform, y_train)\n",
    "\n",
    "# Прогнозируем целевой признак \n",
    "predictions = best_model_boosting.predict(X_test_transform)\n",
    "\n",
    "print(\"RMSE лучшей модели градиентного бустинга на тестовой выборке:\", \n",
    "      mse(y_test, predictions, squared=False).round(0))"
   ]
  },
  {
   "cell_type": "markdown",
   "metadata": {},
   "source": [
    "**Вывод**: качество прогнозирования на тестовой и обучающей выборках примерно одинаковое."
   ]
  },
  {
   "cell_type": "markdown",
   "metadata": {},
   "source": [
    "## Чек-лист готовности проекта"
   ]
  },
  {
   "cell_type": "markdown",
   "metadata": {},
   "source": [
    "- [x]  Jupyter Notebook открыт\n",
    "- [x]  Весь код выполняется без ошибок\n",
    "- [x]  Ячейки с кодом расположены в порядке исполнения\n",
    "- [x]  Выполнена загрузка и подготовка данных\n",
    "- [x]  Выполнено обучение моделей\n",
    "- [x]  Есть анализ скорости работы и качества моделей"
   ]
  }
 ],
 "metadata": {
  "ExecuteTimeLog": [
   {
    "duration": 476,
    "start_time": "2022-04-10T21:44:03.248Z"
   },
   {
    "duration": 611,
    "start_time": "2022-04-10T21:45:40.377Z"
   },
   {
    "duration": 780,
    "start_time": "2022-04-10T21:45:46.540Z"
   },
   {
    "duration": 765,
    "start_time": "2022-04-10T21:45:53.963Z"
   },
   {
    "duration": 824,
    "start_time": "2022-04-10T21:46:02.993Z"
   },
   {
    "duration": 888,
    "start_time": "2022-04-10T21:52:12.451Z"
   },
   {
    "duration": 846,
    "start_time": "2022-04-10T21:53:31.926Z"
   },
   {
    "duration": 788,
    "start_time": "2022-04-10T21:58:56.043Z"
   },
   {
    "duration": 927,
    "start_time": "2022-04-10T21:59:03.526Z"
   },
   {
    "duration": 1770,
    "start_time": "2022-04-11T19:14:46.820Z"
   },
   {
    "duration": 1468,
    "start_time": "2022-04-11T19:14:48.592Z"
   },
   {
    "duration": 10,
    "start_time": "2022-04-11T19:14:50.062Z"
   },
   {
    "duration": 94,
    "start_time": "2022-04-11T19:14:50.075Z"
   },
   {
    "duration": 120,
    "start_time": "2022-04-11T19:14:50.172Z"
   },
   {
    "duration": 3,
    "start_time": "2022-04-11T19:14:50.294Z"
   },
   {
    "duration": 136,
    "start_time": "2022-04-11T19:14:50.298Z"
   },
   {
    "duration": 0,
    "start_time": "2022-04-11T19:14:50.436Z"
   },
   {
    "duration": 0,
    "start_time": "2022-04-11T19:14:50.437Z"
   },
   {
    "duration": 0,
    "start_time": "2022-04-11T19:14:50.438Z"
   },
   {
    "duration": 0,
    "start_time": "2022-04-11T19:14:50.439Z"
   },
   {
    "duration": 0,
    "start_time": "2022-04-11T19:14:50.447Z"
   },
   {
    "duration": 0,
    "start_time": "2022-04-11T19:14:50.449Z"
   },
   {
    "duration": 0,
    "start_time": "2022-04-11T19:14:50.450Z"
   },
   {
    "duration": 5,
    "start_time": "2022-04-11T19:15:31.126Z"
   },
   {
    "duration": 1059,
    "start_time": "2022-04-11T19:15:31.141Z"
   },
   {
    "duration": 6,
    "start_time": "2022-04-11T19:15:32.202Z"
   },
   {
    "duration": 53,
    "start_time": "2022-04-11T19:15:32.209Z"
   },
   {
    "duration": 119,
    "start_time": "2022-04-11T19:15:32.264Z"
   },
   {
    "duration": 3,
    "start_time": "2022-04-11T19:15:32.385Z"
   },
   {
    "duration": 171,
    "start_time": "2022-04-11T19:15:32.389Z"
   },
   {
    "duration": 97,
    "start_time": "2022-04-11T19:15:32.562Z"
   },
   {
    "duration": 108,
    "start_time": "2022-04-11T19:15:32.662Z"
   },
   {
    "duration": 2,
    "start_time": "2022-04-11T19:15:32.772Z"
   },
   {
    "duration": 44,
    "start_time": "2022-04-11T19:15:32.776Z"
   },
   {
    "duration": 601,
    "start_time": "2022-04-11T19:15:32.822Z"
   },
   {
    "duration": 36,
    "start_time": "2022-04-11T19:15:33.425Z"
   },
   {
    "duration": 184,
    "start_time": "2022-04-11T19:15:33.464Z"
   },
   {
    "duration": 5,
    "start_time": "2022-04-11T19:16:53.786Z"
   },
   {
    "duration": 1200,
    "start_time": "2022-04-11T19:16:53.801Z"
   },
   {
    "duration": 9,
    "start_time": "2022-04-11T19:16:55.004Z"
   },
   {
    "duration": 65,
    "start_time": "2022-04-11T19:16:55.017Z"
   },
   {
    "duration": 124,
    "start_time": "2022-04-11T19:16:55.084Z"
   },
   {
    "duration": 2,
    "start_time": "2022-04-11T19:16:55.210Z"
   },
   {
    "duration": 172,
    "start_time": "2022-04-11T19:16:55.214Z"
   },
   {
    "duration": 91,
    "start_time": "2022-04-11T19:16:55.388Z"
   },
   {
    "duration": 115,
    "start_time": "2022-04-11T19:16:55.481Z"
   },
   {
    "duration": 2,
    "start_time": "2022-04-11T19:16:55.598Z"
   },
   {
    "duration": 48,
    "start_time": "2022-04-11T19:16:55.601Z"
   },
   {
    "duration": 540,
    "start_time": "2022-04-11T19:16:55.652Z"
   },
   {
    "duration": 26,
    "start_time": "2022-04-11T19:16:56.194Z"
   },
   {
    "duration": 130,
    "start_time": "2022-04-11T19:16:56.222Z"
   },
   {
    "duration": 5,
    "start_time": "2022-04-11T19:17:59.120Z"
   },
   {
    "duration": 5,
    "start_time": "2022-04-11T19:18:13.367Z"
   },
   {
    "duration": 991,
    "start_time": "2022-04-11T19:18:13.375Z"
   },
   {
    "duration": 6,
    "start_time": "2022-04-11T19:18:14.368Z"
   },
   {
    "duration": 38,
    "start_time": "2022-04-11T19:18:14.376Z"
   },
   {
    "duration": 127,
    "start_time": "2022-04-11T19:18:14.416Z"
   },
   {
    "duration": 4,
    "start_time": "2022-04-11T19:18:14.549Z"
   },
   {
    "duration": 153,
    "start_time": "2022-04-11T19:18:14.555Z"
   },
   {
    "duration": 93,
    "start_time": "2022-04-11T19:18:14.709Z"
   },
   {
    "duration": 103,
    "start_time": "2022-04-11T19:18:14.804Z"
   },
   {
    "duration": 2,
    "start_time": "2022-04-11T19:18:14.909Z"
   },
   {
    "duration": 49,
    "start_time": "2022-04-11T19:18:14.913Z"
   },
   {
    "duration": 515,
    "start_time": "2022-04-11T19:18:14.963Z"
   },
   {
    "duration": 26,
    "start_time": "2022-04-11T19:18:15.480Z"
   },
   {
    "duration": 2462,
    "start_time": "2022-04-11T19:18:15.509Z"
   },
   {
    "duration": 10,
    "start_time": "2022-04-11T19:18:17.974Z"
   },
   {
    "duration": 0,
    "start_time": "2022-04-11T19:18:17.986Z"
   },
   {
    "duration": 155991,
    "start_time": "2022-04-11T19:19:29.436Z"
   },
   {
    "duration": 173414,
    "start_time": "2022-04-11T19:23:51.257Z"
   },
   {
    "duration": 6,
    "start_time": "2022-04-11T19:43:01.464Z"
   },
   {
    "duration": 1008,
    "start_time": "2022-04-11T19:43:01.481Z"
   },
   {
    "duration": 7,
    "start_time": "2022-04-11T19:43:02.491Z"
   },
   {
    "duration": 60,
    "start_time": "2022-04-11T19:43:02.499Z"
   },
   {
    "duration": 113,
    "start_time": "2022-04-11T19:43:02.561Z"
   },
   {
    "duration": 2,
    "start_time": "2022-04-11T19:43:02.677Z"
   },
   {
    "duration": 178,
    "start_time": "2022-04-11T19:43:02.681Z"
   },
   {
    "duration": 100,
    "start_time": "2022-04-11T19:43:02.861Z"
   },
   {
    "duration": 106,
    "start_time": "2022-04-11T19:43:02.962Z"
   },
   {
    "duration": 3,
    "start_time": "2022-04-11T19:43:03.070Z"
   },
   {
    "duration": 28,
    "start_time": "2022-04-11T19:43:03.074Z"
   },
   {
    "duration": 621,
    "start_time": "2022-04-11T19:43:03.105Z"
   },
   {
    "duration": 353173,
    "start_time": "2022-04-11T19:43:03.728Z"
   },
   {
    "duration": 19565,
    "start_time": "2022-04-11T19:48:56.902Z"
   },
   {
    "duration": 7,
    "start_time": "2022-04-11T19:55:02.282Z"
   },
   {
    "duration": 934,
    "start_time": "2022-04-11T19:55:02.294Z"
   },
   {
    "duration": 6,
    "start_time": "2022-04-11T19:55:03.230Z"
   },
   {
    "duration": 37,
    "start_time": "2022-04-11T19:55:03.248Z"
   },
   {
    "duration": 120,
    "start_time": "2022-04-11T19:55:03.288Z"
   },
   {
    "duration": 2,
    "start_time": "2022-04-11T19:55:03.411Z"
   },
   {
    "duration": 144,
    "start_time": "2022-04-11T19:55:03.415Z"
   },
   {
    "duration": 87,
    "start_time": "2022-04-11T19:55:03.561Z"
   },
   {
    "duration": 99,
    "start_time": "2022-04-11T19:55:03.650Z"
   },
   {
    "duration": 15,
    "start_time": "2022-04-11T19:55:03.750Z"
   },
   {
    "duration": 13,
    "start_time": "2022-04-11T19:57:17.990Z"
   },
   {
    "duration": 10,
    "start_time": "2022-04-11T19:57:41.072Z"
   },
   {
    "duration": 21,
    "start_time": "2022-04-11T19:59:34.791Z"
   },
   {
    "duration": 13,
    "start_time": "2022-04-11T20:00:00.681Z"
   },
   {
    "duration": 3310,
    "start_time": "2022-04-11T20:00:33.688Z"
   },
   {
    "duration": 48,
    "start_time": "2022-04-11T20:01:22.796Z"
   },
   {
    "duration": 1613,
    "start_time": "2022-04-11T20:01:33.885Z"
   },
   {
    "duration": 1184,
    "start_time": "2022-04-11T20:01:35.500Z"
   },
   {
    "duration": 10,
    "start_time": "2022-04-11T20:01:36.686Z"
   },
   {
    "duration": 64,
    "start_time": "2022-04-11T20:01:36.699Z"
   },
   {
    "duration": 116,
    "start_time": "2022-04-11T20:01:36.765Z"
   },
   {
    "duration": 3,
    "start_time": "2022-04-11T20:01:36.883Z"
   },
   {
    "duration": 164,
    "start_time": "2022-04-11T20:01:36.888Z"
   },
   {
    "duration": 83,
    "start_time": "2022-04-11T20:01:37.054Z"
   },
   {
    "duration": 116,
    "start_time": "2022-04-11T20:01:37.147Z"
   },
   {
    "duration": 1244,
    "start_time": "2022-04-11T20:01:37.265Z"
   },
   {
    "duration": 69,
    "start_time": "2022-04-11T20:04:04.883Z"
   },
   {
    "duration": 11,
    "start_time": "2022-04-11T20:05:22.601Z"
   },
   {
    "duration": 1213,
    "start_time": "2022-04-11T20:05:28.339Z"
   },
   {
    "duration": 1167,
    "start_time": "2022-04-11T20:13:02.696Z"
   },
   {
    "duration": 18,
    "start_time": "2022-04-11T20:14:51.594Z"
   },
   {
    "duration": 1222,
    "start_time": "2022-04-11T20:16:25.293Z"
   },
   {
    "duration": 6,
    "start_time": "2022-04-11T20:16:50.366Z"
   },
   {
    "duration": 1266,
    "start_time": "2022-04-11T20:16:50.375Z"
   },
   {
    "duration": 9,
    "start_time": "2022-04-11T20:16:51.643Z"
   },
   {
    "duration": 33,
    "start_time": "2022-04-11T20:16:51.654Z"
   },
   {
    "duration": 190,
    "start_time": "2022-04-11T20:16:51.690Z"
   },
   {
    "duration": 3,
    "start_time": "2022-04-11T20:16:51.883Z"
   },
   {
    "duration": 160,
    "start_time": "2022-04-11T20:16:51.887Z"
   },
   {
    "duration": 80,
    "start_time": "2022-04-11T20:16:52.048Z"
   },
   {
    "duration": 103,
    "start_time": "2022-04-11T20:16:52.130Z"
   },
   {
    "duration": 1222,
    "start_time": "2022-04-11T20:16:52.235Z"
   },
   {
    "duration": 1220,
    "start_time": "2022-04-11T20:17:09.354Z"
   },
   {
    "duration": 1190,
    "start_time": "2022-04-11T20:17:46.544Z"
   },
   {
    "duration": 1607,
    "start_time": "2022-04-11T20:18:03.182Z"
   },
   {
    "duration": 1151,
    "start_time": "2022-04-11T20:18:51.611Z"
   },
   {
    "duration": 1202,
    "start_time": "2022-04-11T20:19:37.783Z"
   },
   {
    "duration": 1217,
    "start_time": "2022-04-11T20:22:57.709Z"
   },
   {
    "duration": 1194,
    "start_time": "2022-04-11T20:23:20.988Z"
   },
   {
    "duration": 1208,
    "start_time": "2022-04-11T20:24:44.043Z"
   },
   {
    "duration": 1180,
    "start_time": "2022-04-11T20:25:47.769Z"
   },
   {
    "duration": 1160,
    "start_time": "2022-04-11T20:26:25.869Z"
   },
   {
    "duration": 1225,
    "start_time": "2022-04-11T20:28:05.403Z"
   },
   {
    "duration": 1484,
    "start_time": "2022-04-11T20:28:14.952Z"
   },
   {
    "duration": 11,
    "start_time": "2022-04-11T20:31:29.760Z"
   },
   {
    "duration": 128,
    "start_time": "2022-04-11T20:34:26.795Z"
   },
   {
    "duration": 98,
    "start_time": "2022-04-11T20:38:07.988Z"
   },
   {
    "duration": 5,
    "start_time": "2022-04-11T20:47:08.640Z"
   },
   {
    "duration": 942,
    "start_time": "2022-04-11T20:47:08.650Z"
   },
   {
    "duration": 7,
    "start_time": "2022-04-11T20:47:09.594Z"
   },
   {
    "duration": 70,
    "start_time": "2022-04-11T20:47:09.602Z"
   },
   {
    "duration": 11,
    "start_time": "2022-04-11T20:47:09.674Z"
   },
   {
    "duration": 0,
    "start_time": "2022-04-11T20:47:09.687Z"
   },
   {
    "duration": 0,
    "start_time": "2022-04-11T20:47:09.688Z"
   },
   {
    "duration": 0,
    "start_time": "2022-04-11T20:47:09.689Z"
   },
   {
    "duration": 0,
    "start_time": "2022-04-11T20:47:09.690Z"
   },
   {
    "duration": 5,
    "start_time": "2022-04-11T20:47:51.437Z"
   },
   {
    "duration": 988,
    "start_time": "2022-04-11T20:47:51.446Z"
   },
   {
    "duration": 62,
    "start_time": "2022-04-11T20:47:52.436Z"
   },
   {
    "duration": 109,
    "start_time": "2022-04-11T20:47:52.500Z"
   },
   {
    "duration": 150,
    "start_time": "2022-04-11T20:47:52.612Z"
   },
   {
    "duration": 90,
    "start_time": "2022-04-11T20:47:52.764Z"
   },
   {
    "duration": 107,
    "start_time": "2022-04-11T20:47:52.856Z"
   },
   {
    "duration": 1497,
    "start_time": "2022-04-11T20:47:52.965Z"
   },
   {
    "duration": 1196,
    "start_time": "2022-04-11T20:49:18.161Z"
   },
   {
    "duration": 95,
    "start_time": "2022-04-11T20:55:26.899Z"
   },
   {
    "duration": 104,
    "start_time": "2022-04-11T20:55:36.664Z"
   },
   {
    "duration": 91,
    "start_time": "2022-04-11T20:55:46.144Z"
   },
   {
    "duration": 87,
    "start_time": "2022-04-11T20:56:17.961Z"
   },
   {
    "duration": 5,
    "start_time": "2022-04-11T20:56:32.319Z"
   },
   {
    "duration": 950,
    "start_time": "2022-04-11T20:56:32.325Z"
   },
   {
    "duration": 58,
    "start_time": "2022-04-11T20:56:33.277Z"
   },
   {
    "duration": 105,
    "start_time": "2022-04-11T20:56:33.349Z"
   },
   {
    "duration": 143,
    "start_time": "2022-04-11T20:56:33.458Z"
   },
   {
    "duration": 87,
    "start_time": "2022-04-11T20:56:33.603Z"
   },
   {
    "duration": 111,
    "start_time": "2022-04-11T20:56:33.692Z"
   },
   {
    "duration": 1669,
    "start_time": "2022-04-11T20:57:01.707Z"
   },
   {
    "duration": 1281,
    "start_time": "2022-04-11T20:57:03.378Z"
   },
   {
    "duration": 90,
    "start_time": "2022-04-11T20:57:04.661Z"
   },
   {
    "duration": 109,
    "start_time": "2022-04-11T20:57:04.753Z"
   },
   {
    "duration": 136,
    "start_time": "2022-04-11T20:57:04.864Z"
   },
   {
    "duration": 98,
    "start_time": "2022-04-11T20:57:05.002Z"
   },
   {
    "duration": 117,
    "start_time": "2022-04-11T20:57:05.102Z"
   },
   {
    "duration": 1347,
    "start_time": "2022-04-11T20:57:05.220Z"
   },
   {
    "duration": 5726,
    "start_time": "2022-04-11T20:57:49.058Z"
   },
   {
    "duration": 4944,
    "start_time": "2022-04-11T20:58:31.392Z"
   },
   {
    "duration": 4697,
    "start_time": "2022-04-11T20:58:41.337Z"
   },
   {
    "duration": 4,
    "start_time": "2022-04-11T20:59:51.087Z"
   },
   {
    "duration": 1008,
    "start_time": "2022-04-11T20:59:51.093Z"
   },
   {
    "duration": 80,
    "start_time": "2022-04-11T20:59:52.103Z"
   },
   {
    "duration": 119,
    "start_time": "2022-04-11T20:59:52.185Z"
   },
   {
    "duration": 157,
    "start_time": "2022-04-11T20:59:52.307Z"
   },
   {
    "duration": 88,
    "start_time": "2022-04-11T20:59:52.470Z"
   },
   {
    "duration": 115,
    "start_time": "2022-04-11T20:59:52.559Z"
   },
   {
    "duration": 1292,
    "start_time": "2022-04-11T20:59:52.676Z"
   },
   {
    "duration": 4597,
    "start_time": "2022-04-11T21:00:35.346Z"
   },
   {
    "duration": 104,
    "start_time": "2022-04-11T21:01:50.405Z"
   },
   {
    "duration": 106,
    "start_time": "2022-04-11T21:02:17.532Z"
   },
   {
    "duration": 4,
    "start_time": "2022-04-11T21:06:50.201Z"
   },
   {
    "duration": 940,
    "start_time": "2022-04-11T21:06:50.207Z"
   },
   {
    "duration": 63,
    "start_time": "2022-04-11T21:06:51.149Z"
   },
   {
    "duration": 117,
    "start_time": "2022-04-11T21:06:51.214Z"
   },
   {
    "duration": 150,
    "start_time": "2022-04-11T21:06:51.332Z"
   },
   {
    "duration": 87,
    "start_time": "2022-04-11T21:06:51.484Z"
   },
   {
    "duration": 124,
    "start_time": "2022-04-11T21:06:51.573Z"
   },
   {
    "duration": 4895,
    "start_time": "2022-04-11T21:06:51.699Z"
   },
   {
    "duration": 78,
    "start_time": "2022-04-11T21:06:56.596Z"
   },
   {
    "duration": 107,
    "start_time": "2022-04-11T21:06:56.677Z"
   },
   {
    "duration": 49681,
    "start_time": "2022-04-11T21:06:56.787Z"
   },
   {
    "duration": 5,
    "start_time": "2022-04-11T21:10:20.452Z"
   },
   {
    "duration": 1030,
    "start_time": "2022-04-11T21:10:20.464Z"
   },
   {
    "duration": 80,
    "start_time": "2022-04-11T21:10:21.497Z"
   },
   {
    "duration": 122,
    "start_time": "2022-04-11T21:10:21.578Z"
   },
   {
    "duration": 146,
    "start_time": "2022-04-11T21:10:21.701Z"
   },
   {
    "duration": 113,
    "start_time": "2022-04-11T21:10:21.849Z"
   },
   {
    "duration": 124,
    "start_time": "2022-04-11T21:10:21.963Z"
   },
   {
    "duration": 5660,
    "start_time": "2022-04-11T21:10:22.089Z"
   },
   {
    "duration": 1902,
    "start_time": "2022-04-11T21:13:33.875Z"
   },
   {
    "duration": 4997,
    "start_time": "2022-04-11T21:14:49.261Z"
   },
   {
    "duration": 5,
    "start_time": "2022-04-11T21:15:18.542Z"
   },
   {
    "duration": 1057,
    "start_time": "2022-04-11T21:15:18.552Z"
   },
   {
    "duration": 85,
    "start_time": "2022-04-11T21:15:19.611Z"
   },
   {
    "duration": 122,
    "start_time": "2022-04-11T21:15:19.698Z"
   },
   {
    "duration": 166,
    "start_time": "2022-04-11T21:15:19.822Z"
   },
   {
    "duration": 108,
    "start_time": "2022-04-11T21:15:19.990Z"
   },
   {
    "duration": 113,
    "start_time": "2022-04-11T21:15:20.100Z"
   },
   {
    "duration": 4875,
    "start_time": "2022-04-11T21:15:20.215Z"
   },
   {
    "duration": 5,
    "start_time": "2022-04-11T21:16:25.182Z"
   },
   {
    "duration": 945,
    "start_time": "2022-04-11T21:16:25.189Z"
   },
   {
    "duration": 68,
    "start_time": "2022-04-11T21:16:26.136Z"
   },
   {
    "duration": 132,
    "start_time": "2022-04-11T21:16:26.206Z"
   },
   {
    "duration": 140,
    "start_time": "2022-04-11T21:16:26.339Z"
   },
   {
    "duration": 99,
    "start_time": "2022-04-11T21:16:26.481Z"
   },
   {
    "duration": 133,
    "start_time": "2022-04-11T21:16:26.583Z"
   },
   {
    "duration": 5325,
    "start_time": "2022-04-11T21:16:26.717Z"
   },
   {
    "duration": 52049,
    "start_time": "2022-04-11T21:17:07.505Z"
   },
   {
    "duration": 42934,
    "start_time": "2022-04-11T21:19:34.517Z"
   },
   {
    "duration": 37100,
    "start_time": "2022-04-11T21:21:05.061Z"
   },
   {
    "duration": 2506936,
    "start_time": "2022-04-11T21:28:35.742Z"
   },
   {
    "duration": 1526,
    "start_time": "2022-04-12T05:23:49.930Z"
   },
   {
    "duration": 912,
    "start_time": "2022-04-12T05:23:51.458Z"
   },
   {
    "duration": 77,
    "start_time": "2022-04-12T05:23:52.371Z"
   },
   {
    "duration": 103,
    "start_time": "2022-04-12T05:23:52.450Z"
   },
   {
    "duration": 134,
    "start_time": "2022-04-12T05:23:52.555Z"
   },
   {
    "duration": 86,
    "start_time": "2022-04-12T05:23:52.690Z"
   },
   {
    "duration": 109,
    "start_time": "2022-04-12T05:23:52.777Z"
   },
   {
    "duration": 5364,
    "start_time": "2022-04-12T05:23:52.887Z"
   },
   {
    "duration": 109,
    "start_time": "2022-04-12T05:23:58.252Z"
   },
   {
    "duration": 565,
    "start_time": "2022-04-12T05:24:59.555Z"
   },
   {
    "duration": 5,
    "start_time": "2022-04-12T05:55:04.683Z"
   },
   {
    "duration": 858,
    "start_time": "2022-04-12T05:55:04.689Z"
   },
   {
    "duration": 56,
    "start_time": "2022-04-12T05:55:05.549Z"
   },
   {
    "duration": 106,
    "start_time": "2022-04-12T05:55:05.607Z"
   },
   {
    "duration": 136,
    "start_time": "2022-04-12T05:55:05.715Z"
   },
   {
    "duration": 75,
    "start_time": "2022-04-12T05:55:05.853Z"
   },
   {
    "duration": 102,
    "start_time": "2022-04-12T05:55:05.929Z"
   },
   {
    "duration": 39,
    "start_time": "2022-04-12T05:55:06.033Z"
   },
   {
    "duration": 1854,
    "start_time": "2022-04-12T05:55:06.075Z"
   },
   {
    "duration": 0,
    "start_time": "2022-04-12T05:55:07.931Z"
   },
   {
    "duration": 0,
    "start_time": "2022-04-12T05:55:07.933Z"
   },
   {
    "duration": 5,
    "start_time": "2022-04-12T05:56:13.396Z"
   },
   {
    "duration": 900,
    "start_time": "2022-04-12T05:56:13.415Z"
   },
   {
    "duration": 63,
    "start_time": "2022-04-12T05:56:14.317Z"
   },
   {
    "duration": 102,
    "start_time": "2022-04-12T05:56:14.382Z"
   },
   {
    "duration": 116,
    "start_time": "2022-04-12T05:56:14.486Z"
   },
   {
    "duration": 84,
    "start_time": "2022-04-12T05:56:14.605Z"
   },
   {
    "duration": 96,
    "start_time": "2022-04-12T05:56:14.690Z"
   },
   {
    "duration": 24,
    "start_time": "2022-04-12T05:56:14.788Z"
   },
   {
    "duration": 713,
    "start_time": "2022-04-12T05:56:14.814Z"
   },
   {
    "duration": 35,
    "start_time": "2022-04-12T05:56:15.529Z"
   },
   {
    "duration": 34574,
    "start_time": "2022-04-12T05:56:15.567Z"
   },
   {
    "duration": 4,
    "start_time": "2022-04-12T05:57:44.120Z"
   },
   {
    "duration": 133704,
    "start_time": "2022-04-12T05:57:59.545Z"
   },
   {
    "duration": 133785,
    "start_time": "2022-04-12T06:00:39.562Z"
   },
   {
    "duration": 34966,
    "start_time": "2022-04-12T06:05:54.483Z"
   },
   {
    "duration": 5,
    "start_time": "2022-04-12T06:08:40.560Z"
   },
   {
    "duration": 136060,
    "start_time": "2022-04-12T06:08:49.469Z"
   },
   {
    "duration": 135476,
    "start_time": "2022-04-12T06:11:35.773Z"
   },
   {
    "duration": 115,
    "start_time": "2022-04-12T06:15:05.268Z"
   },
   {
    "duration": 5,
    "start_time": "2022-04-12T06:16:07.614Z"
   },
   {
    "duration": 54,
    "start_time": "2022-04-12T06:16:20.410Z"
   },
   {
    "duration": 119,
    "start_time": "2022-04-12T06:23:15.296Z"
   },
   {
    "duration": 389135,
    "start_time": "2022-04-12T06:23:34.586Z"
   },
   {
    "duration": 58543,
    "start_time": "2022-04-12T06:34:46.342Z"
   },
   {
    "duration": 25887,
    "start_time": "2022-04-12T06:36:01.495Z"
   },
   {
    "duration": 57953,
    "start_time": "2022-04-12T06:36:32.484Z"
   },
   {
    "duration": 26,
    "start_time": "2022-04-12T07:48:16.626Z"
   },
   {
    "duration": 38819,
    "start_time": "2022-04-12T07:49:36.336Z"
   },
   {
    "duration": 65377,
    "start_time": "2022-04-12T07:53:44.596Z"
   },
   {
    "duration": 5122,
    "start_time": "2022-04-12T07:55:41.144Z"
   },
   {
    "duration": 4740,
    "start_time": "2022-04-12T07:56:43.214Z"
   },
   {
    "duration": 11,
    "start_time": "2022-04-12T08:20:24.104Z"
   },
   {
    "duration": 13,
    "start_time": "2022-04-12T08:21:06.094Z"
   },
   {
    "duration": 116,
    "start_time": "2022-04-12T08:21:16.203Z"
   },
   {
    "duration": 111,
    "start_time": "2022-04-12T08:21:37.563Z"
   },
   {
    "duration": 12,
    "start_time": "2022-04-12T08:22:02.465Z"
   },
   {
    "duration": 130,
    "start_time": "2022-04-12T08:22:07.050Z"
   },
   {
    "duration": 111,
    "start_time": "2022-04-12T08:22:28.288Z"
   },
   {
    "duration": 7,
    "start_time": "2022-04-12T08:36:59.401Z"
   },
   {
    "duration": 8,
    "start_time": "2022-04-12T08:37:04.158Z"
   },
   {
    "duration": 9,
    "start_time": "2022-04-12T08:41:06.499Z"
   },
   {
    "duration": 8,
    "start_time": "2022-04-12T08:41:24.506Z"
   },
   {
    "duration": 9,
    "start_time": "2022-04-12T08:42:15.438Z"
   },
   {
    "duration": 10,
    "start_time": "2022-04-12T08:48:00.741Z"
   },
   {
    "duration": 10,
    "start_time": "2022-04-12T08:49:50.412Z"
   },
   {
    "duration": 237,
    "start_time": "2022-04-12T08:50:29.412Z"
   },
   {
    "duration": 173,
    "start_time": "2022-04-12T08:50:36.296Z"
   },
   {
    "duration": 157,
    "start_time": "2022-04-12T08:50:43.150Z"
   },
   {
    "duration": 111,
    "start_time": "2022-04-12T08:51:09.685Z"
   },
   {
    "duration": 152,
    "start_time": "2022-04-12T08:51:41.918Z"
   },
   {
    "duration": 169,
    "start_time": "2022-04-12T08:51:49.902Z"
   },
   {
    "duration": 174,
    "start_time": "2022-04-12T08:52:04.105Z"
   },
   {
    "duration": 168,
    "start_time": "2022-04-12T08:53:24.422Z"
   },
   {
    "duration": 175,
    "start_time": "2022-04-12T08:55:12.655Z"
   },
   {
    "duration": 169,
    "start_time": "2022-04-12T08:55:30.188Z"
   },
   {
    "duration": 173,
    "start_time": "2022-04-12T08:55:38.997Z"
   },
   {
    "duration": 177,
    "start_time": "2022-04-12T08:55:51.635Z"
   },
   {
    "duration": 277,
    "start_time": "2022-04-12T08:56:08.626Z"
   },
   {
    "duration": 179,
    "start_time": "2022-04-12T08:56:48.753Z"
   },
   {
    "duration": 189,
    "start_time": "2022-04-12T08:57:01.589Z"
   },
   {
    "duration": 10,
    "start_time": "2022-04-12T08:58:10.757Z"
   },
   {
    "duration": 176,
    "start_time": "2022-04-12T08:58:23.941Z"
   },
   {
    "duration": 178,
    "start_time": "2022-04-12T09:00:18.746Z"
   },
   {
    "duration": 5,
    "start_time": "2022-04-12T09:06:38.802Z"
   },
   {
    "duration": 850,
    "start_time": "2022-04-12T09:06:38.809Z"
   },
   {
    "duration": 51,
    "start_time": "2022-04-12T09:06:39.661Z"
   },
   {
    "duration": 111,
    "start_time": "2022-04-12T09:06:39.714Z"
   },
   {
    "duration": 35,
    "start_time": "2022-04-12T09:06:39.827Z"
   },
   {
    "duration": 85,
    "start_time": "2022-04-12T09:06:39.864Z"
   },
   {
    "duration": 108,
    "start_time": "2022-04-12T09:06:39.951Z"
   },
   {
    "duration": 28,
    "start_time": "2022-04-12T09:06:40.062Z"
   },
   {
    "duration": 827,
    "start_time": "2022-04-12T09:06:40.092Z"
   },
   {
    "duration": 72,
    "start_time": "2022-04-12T09:06:40.921Z"
   },
   {
    "duration": 129955,
    "start_time": "2022-04-12T09:06:40.996Z"
   },
   {
    "duration": 394207,
    "start_time": "2022-04-12T09:08:50.953Z"
   },
   {
    "duration": 60055,
    "start_time": "2022-04-12T09:15:25.162Z"
   },
   {
    "duration": 39436,
    "start_time": "2022-04-12T09:16:25.218Z"
   },
   {
    "duration": 5302,
    "start_time": "2022-04-12T09:17:04.656Z"
   },
   {
    "duration": 9,
    "start_time": "2022-04-12T09:17:09.960Z"
   },
   {
    "duration": 199,
    "start_time": "2022-04-12T09:17:10.048Z"
   },
   {
    "duration": 934,
    "start_time": "2022-04-12T09:31:58.764Z"
   },
   {
    "duration": 4,
    "start_time": "2022-04-12T09:36:27.243Z"
   },
   {
    "duration": 826,
    "start_time": "2022-04-12T09:36:27.249Z"
   },
   {
    "duration": 71,
    "start_time": "2022-04-12T09:36:28.076Z"
   },
   {
    "duration": 108,
    "start_time": "2022-04-12T09:36:28.149Z"
   },
   {
    "duration": 101,
    "start_time": "2022-04-12T09:36:32.234Z"
   },
   {
    "duration": 680,
    "start_time": "2022-04-12T09:36:35.379Z"
   },
   {
    "duration": 57,
    "start_time": "2022-04-12T09:36:36.062Z"
   },
   {
    "duration": 128529,
    "start_time": "2022-04-12T09:36:36.120Z"
   },
   {
    "duration": 398364,
    "start_time": "2022-04-12T09:38:44.652Z"
   },
   {
    "duration": 59460,
    "start_time": "2022-04-12T09:45:23.018Z"
   },
   {
    "duration": 40779,
    "start_time": "2022-04-12T09:46:22.480Z"
   },
   {
    "duration": 5097,
    "start_time": "2022-04-12T09:47:03.261Z"
   },
   {
    "duration": 10,
    "start_time": "2022-04-12T09:47:08.361Z"
   },
   {
    "duration": 256,
    "start_time": "2022-04-12T09:47:08.373Z"
   },
   {
    "duration": 2319,
    "start_time": "2022-04-12T20:13:08.531Z"
   },
   {
    "duration": 1244,
    "start_time": "2022-04-12T20:13:10.854Z"
   },
   {
    "duration": 113,
    "start_time": "2022-04-12T20:13:12.101Z"
   },
   {
    "duration": 157,
    "start_time": "2022-04-12T20:13:12.217Z"
   },
   {
    "duration": 205,
    "start_time": "2022-04-12T20:13:12.377Z"
   },
   {
    "duration": 1065,
    "start_time": "2022-04-12T20:13:12.584Z"
   },
   {
    "duration": 102,
    "start_time": "2022-04-12T20:13:13.652Z"
   },
   {
    "duration": 176198,
    "start_time": "2022-04-12T20:13:13.756Z"
   },
   {
    "duration": 553117,
    "start_time": "2022-04-12T20:16:09.957Z"
   },
   {
    "duration": 81307,
    "start_time": "2022-04-12T20:25:23.077Z"
   },
   {
    "duration": 112576,
    "start_time": "2022-04-12T20:26:44.386Z"
   },
   {
    "duration": 7794,
    "start_time": "2022-04-12T20:28:36.965Z"
   },
   {
    "duration": 17,
    "start_time": "2022-04-12T20:28:44.762Z"
   },
   {
    "duration": 383,
    "start_time": "2022-04-12T20:28:44.784Z"
   },
   {
    "duration": 6,
    "start_time": "2022-04-12T20:47:23.166Z"
   },
   {
    "duration": 69,
    "start_time": "2022-04-12T21:46:18.085Z"
   },
   {
    "duration": 2660,
    "start_time": "2022-04-12T21:46:27.365Z"
   },
   {
    "duration": 1279,
    "start_time": "2022-04-12T21:46:30.027Z"
   },
   {
    "duration": 120,
    "start_time": "2022-04-12T21:46:31.309Z"
   },
   {
    "duration": 168,
    "start_time": "2022-04-12T21:46:31.433Z"
   },
   {
    "duration": 239,
    "start_time": "2022-04-12T21:46:31.603Z"
   },
   {
    "duration": 1094,
    "start_time": "2022-04-12T21:46:31.844Z"
   },
   {
    "duration": 13,
    "start_time": "2022-04-12T21:46:32.940Z"
   },
   {
    "duration": 807,
    "start_time": "2022-04-12T23:10:45.037Z"
   },
   {
    "duration": 1056,
    "start_time": "2022-04-12T23:11:01.143Z"
   },
   {
    "duration": 745,
    "start_time": "2022-04-12T23:11:17.761Z"
   },
   {
    "duration": 693,
    "start_time": "2022-04-12T23:11:42.622Z"
   },
   {
    "duration": 676,
    "start_time": "2022-04-12T23:11:46.026Z"
   },
   {
    "duration": 577,
    "start_time": "2022-04-12T23:13:14.482Z"
   },
   {
    "duration": 605,
    "start_time": "2022-04-12T23:17:01.224Z"
   },
   {
    "duration": 817,
    "start_time": "2022-04-12T23:17:20.060Z"
   },
   {
    "duration": 954,
    "start_time": "2022-04-12T23:23:29.227Z"
   },
   {
    "duration": 739,
    "start_time": "2022-04-12T23:23:41.925Z"
   },
   {
    "duration": 609,
    "start_time": "2022-04-12T23:24:05.044Z"
   },
   {
    "duration": 723,
    "start_time": "2022-04-12T23:25:16.555Z"
   },
   {
    "duration": 604,
    "start_time": "2022-04-12T23:26:00.029Z"
   },
   {
    "duration": 597,
    "start_time": "2022-04-12T23:26:20.809Z"
   },
   {
    "duration": 602,
    "start_time": "2022-04-12T23:26:29.515Z"
   },
   {
    "duration": 615,
    "start_time": "2022-04-12T23:26:35.316Z"
   },
   {
    "duration": 672,
    "start_time": "2022-04-12T23:27:09.772Z"
   },
   {
    "duration": 583,
    "start_time": "2022-04-12T23:27:24.187Z"
   },
   {
    "duration": 8,
    "start_time": "2022-04-12T23:28:18.161Z"
   },
   {
    "duration": 6,
    "start_time": "2022-04-12T23:28:58.378Z"
   },
   {
    "duration": 7,
    "start_time": "2022-04-12T23:29:42.658Z"
   },
   {
    "duration": 1210,
    "start_time": "2022-04-12T23:29:42.668Z"
   },
   {
    "duration": 113,
    "start_time": "2022-04-12T23:29:43.880Z"
   },
   {
    "duration": 151,
    "start_time": "2022-04-12T23:29:43.996Z"
   },
   {
    "duration": 6,
    "start_time": "2022-04-12T23:29:44.151Z"
   },
   {
    "duration": 88,
    "start_time": "2022-04-12T23:29:58.377Z"
   },
   {
    "duration": 602,
    "start_time": "2022-04-12T23:30:13.193Z"
   },
   {
    "duration": 617,
    "start_time": "2022-04-12T23:30:28.987Z"
   },
   {
    "duration": 633,
    "start_time": "2022-04-12T23:31:24.603Z"
   },
   {
    "duration": 638,
    "start_time": "2022-04-12T23:31:37.092Z"
   },
   {
    "duration": 6,
    "start_time": "2022-04-12T23:33:01.497Z"
   },
   {
    "duration": 7,
    "start_time": "2022-04-12T23:33:18.317Z"
   },
   {
    "duration": 16,
    "start_time": "2022-04-12T23:33:31.753Z"
   },
   {
    "duration": 15,
    "start_time": "2022-04-12T23:33:41.686Z"
   },
   {
    "duration": 8,
    "start_time": "2022-04-12T23:33:44.163Z"
   },
   {
    "duration": 8,
    "start_time": "2022-04-12T23:33:47.389Z"
   },
   {
    "duration": 6,
    "start_time": "2022-04-12T23:33:49.724Z"
   },
   {
    "duration": 6,
    "start_time": "2022-04-12T23:33:53.273Z"
   },
   {
    "duration": 11,
    "start_time": "2022-04-12T23:33:57.093Z"
   },
   {
    "duration": 12,
    "start_time": "2022-04-12T23:34:01.217Z"
   },
   {
    "duration": 7,
    "start_time": "2022-04-12T23:34:04.734Z"
   },
   {
    "duration": 16,
    "start_time": "2022-04-12T23:35:54.460Z"
   },
   {
    "duration": 15,
    "start_time": "2022-04-12T23:36:04.826Z"
   },
   {
    "duration": 5,
    "start_time": "2022-04-12T23:36:19.661Z"
   },
   {
    "duration": 6,
    "start_time": "2022-04-12T23:38:18.131Z"
   },
   {
    "duration": 7,
    "start_time": "2022-04-12T23:38:25.701Z"
   },
   {
    "duration": 6,
    "start_time": "2022-04-12T23:38:28.651Z"
   },
   {
    "duration": 4,
    "start_time": "2022-04-12T23:39:23.203Z"
   },
   {
    "duration": 6,
    "start_time": "2022-04-12T23:39:31.065Z"
   },
   {
    "duration": 6,
    "start_time": "2022-04-12T23:39:45.935Z"
   },
   {
    "duration": 6,
    "start_time": "2022-04-12T23:39:49.137Z"
   },
   {
    "duration": 6,
    "start_time": "2022-04-12T23:40:00.755Z"
   },
   {
    "duration": 4,
    "start_time": "2022-04-12T23:40:36.463Z"
   },
   {
    "duration": 7,
    "start_time": "2022-04-12T23:41:46.125Z"
   },
   {
    "duration": 13,
    "start_time": "2022-04-12T23:41:52.647Z"
   },
   {
    "duration": 13,
    "start_time": "2022-04-12T23:41:56.971Z"
   },
   {
    "duration": 7,
    "start_time": "2022-04-12T23:41:59.724Z"
   },
   {
    "duration": 879,
    "start_time": "2022-04-12T23:42:41.793Z"
   },
   {
    "duration": 599,
    "start_time": "2022-04-12T23:44:02.648Z"
   },
   {
    "duration": 649,
    "start_time": "2022-04-12T23:45:18.281Z"
   },
   {
    "duration": 610,
    "start_time": "2022-04-12T23:47:13.675Z"
   },
   {
    "duration": 564,
    "start_time": "2022-04-12T23:47:27.111Z"
   },
   {
    "duration": 690,
    "start_time": "2022-04-12T23:47:45.751Z"
   },
   {
    "duration": 597,
    "start_time": "2022-04-12T23:47:51.846Z"
   },
   {
    "duration": 610,
    "start_time": "2022-04-12T23:48:01.644Z"
   },
   {
    "duration": 591,
    "start_time": "2022-04-12T23:48:14.716Z"
   },
   {
    "duration": 600,
    "start_time": "2022-04-12T23:48:22.426Z"
   },
   {
    "duration": 710,
    "start_time": "2022-04-12T23:49:12.512Z"
   },
   {
    "duration": 647,
    "start_time": "2022-04-12T23:49:18.807Z"
   },
   {
    "duration": 591,
    "start_time": "2022-04-12T23:49:28.722Z"
   },
   {
    "duration": 578,
    "start_time": "2022-04-12T23:49:37.473Z"
   },
   {
    "duration": 586,
    "start_time": "2022-04-12T23:49:43.318Z"
   },
   {
    "duration": 588,
    "start_time": "2022-04-12T23:49:49.472Z"
   },
   {
    "duration": 823,
    "start_time": "2022-04-12T23:49:56.941Z"
   },
   {
    "duration": 625,
    "start_time": "2022-04-12T23:50:13.053Z"
   },
   {
    "duration": 597,
    "start_time": "2022-04-12T23:50:19.441Z"
   },
   {
    "duration": 580,
    "start_time": "2022-04-12T23:50:27.900Z"
   },
   {
    "duration": 609,
    "start_time": "2022-04-12T23:50:38.017Z"
   },
   {
    "duration": 724,
    "start_time": "2022-04-12T23:50:43.170Z"
   },
   {
    "duration": 698,
    "start_time": "2022-04-12T23:52:09.954Z"
   },
   {
    "duration": 680,
    "start_time": "2022-04-12T23:52:34.186Z"
   },
   {
    "duration": 652,
    "start_time": "2022-04-12T23:52:39.890Z"
   },
   {
    "duration": 692,
    "start_time": "2022-04-12T23:52:56.794Z"
   },
   {
    "duration": 695,
    "start_time": "2022-04-12T23:53:01.820Z"
   },
   {
    "duration": 812,
    "start_time": "2022-04-12T23:53:07.384Z"
   },
   {
    "duration": 698,
    "start_time": "2022-04-12T23:53:12.811Z"
   },
   {
    "duration": 718,
    "start_time": "2022-04-12T23:53:16.098Z"
   },
   {
    "duration": 708,
    "start_time": "2022-04-12T23:53:19.059Z"
   },
   {
    "duration": 681,
    "start_time": "2022-04-12T23:53:24.433Z"
   },
   {
    "duration": 840,
    "start_time": "2022-04-12T23:53:31.681Z"
   },
   {
    "duration": 705,
    "start_time": "2022-04-12T23:53:35.674Z"
   },
   {
    "duration": 686,
    "start_time": "2022-04-12T23:53:42.969Z"
   },
   {
    "duration": 754,
    "start_time": "2022-04-12T23:53:48.973Z"
   },
   {
    "duration": 650,
    "start_time": "2022-04-12T23:53:54.261Z"
   },
   {
    "duration": 676,
    "start_time": "2022-04-12T23:54:02.608Z"
   },
   {
    "duration": 798,
    "start_time": "2022-04-12T23:54:08.914Z"
   },
   {
    "duration": 672,
    "start_time": "2022-04-12T23:54:16.464Z"
   },
   {
    "duration": 838,
    "start_time": "2022-04-12T23:55:31.735Z"
   },
   {
    "duration": 700,
    "start_time": "2022-04-12T23:55:38.465Z"
   },
   {
    "duration": 887,
    "start_time": "2022-04-12T23:55:48.883Z"
   },
   {
    "duration": 828,
    "start_time": "2022-04-12T23:56:00.435Z"
   },
   {
    "duration": 739,
    "start_time": "2022-04-12T23:56:19.930Z"
   },
   {
    "duration": 944,
    "start_time": "2022-04-12T23:57:10.222Z"
   },
   {
    "duration": 714,
    "start_time": "2022-04-12T23:57:20.497Z"
   },
   {
    "duration": 770,
    "start_time": "2022-04-12T23:57:47.285Z"
   },
   {
    "duration": 888,
    "start_time": "2022-04-12T23:58:04.513Z"
   },
   {
    "duration": 740,
    "start_time": "2022-04-12T23:58:23.856Z"
   },
   {
    "duration": 1013,
    "start_time": "2022-04-12T23:59:24.807Z"
   },
   {
    "duration": 890,
    "start_time": "2022-04-12T23:59:34.430Z"
   },
   {
    "duration": 1031,
    "start_time": "2022-04-12T23:59:52.340Z"
   },
   {
    "duration": 891,
    "start_time": "2022-04-13T00:00:11.131Z"
   },
   {
    "duration": 887,
    "start_time": "2022-04-13T00:00:19.870Z"
   },
   {
    "duration": 801,
    "start_time": "2022-04-13T00:00:24.144Z"
   },
   {
    "duration": 849,
    "start_time": "2022-04-13T00:00:35.811Z"
   },
   {
    "duration": 751,
    "start_time": "2022-04-13T00:00:49.396Z"
   },
   {
    "duration": 831,
    "start_time": "2022-04-13T00:01:06.700Z"
   },
   {
    "duration": 849,
    "start_time": "2022-04-13T00:01:17.464Z"
   },
   {
    "duration": 907,
    "start_time": "2022-04-13T00:01:57.611Z"
   },
   {
    "duration": 1168,
    "start_time": "2022-04-13T00:02:16.221Z"
   },
   {
    "duration": 8,
    "start_time": "2022-04-13T00:03:12.980Z"
   },
   {
    "duration": 13,
    "start_time": "2022-04-13T00:03:25.856Z"
   },
   {
    "duration": 6,
    "start_time": "2022-04-13T00:03:34.217Z"
   },
   {
    "duration": 8,
    "start_time": "2022-04-13T00:03:44.109Z"
   },
   {
    "duration": 8,
    "start_time": "2022-04-13T00:09:04.127Z"
   },
   {
    "duration": 49,
    "start_time": "2022-04-13T10:39:59.722Z"
   },
   {
    "duration": 1657,
    "start_time": "2022-04-13T10:40:19.287Z"
   },
   {
    "duration": 953,
    "start_time": "2022-04-13T10:40:20.946Z"
   },
   {
    "duration": 85,
    "start_time": "2022-04-13T10:40:21.901Z"
   },
   {
    "duration": 112,
    "start_time": "2022-04-13T10:40:21.989Z"
   },
   {
    "duration": 537,
    "start_time": "2022-04-13T10:40:22.103Z"
   },
   {
    "duration": 7,
    "start_time": "2022-04-13T10:40:22.642Z"
   },
   {
    "duration": 53,
    "start_time": "2022-04-13T10:40:22.651Z"
   },
   {
    "duration": 8,
    "start_time": "2022-04-13T10:43:11.630Z"
   },
   {
    "duration": 1125,
    "start_time": "2022-04-13T10:43:11.641Z"
   },
   {
    "duration": 77,
    "start_time": "2022-04-13T10:43:12.768Z"
   },
   {
    "duration": 197,
    "start_time": "2022-04-13T10:43:12.847Z"
   },
   {
    "duration": 964,
    "start_time": "2022-04-13T10:43:13.047Z"
   },
   {
    "duration": 9,
    "start_time": "2022-04-13T10:43:14.013Z"
   },
   {
    "duration": 88,
    "start_time": "2022-04-13T10:43:14.024Z"
   },
   {
    "duration": 53,
    "start_time": "2022-04-13T10:43:21.796Z"
   },
   {
    "duration": 37,
    "start_time": "2022-04-13T10:44:22.797Z"
   },
   {
    "duration": 664,
    "start_time": "2022-04-13T10:45:02.298Z"
   },
   {
    "duration": 28,
    "start_time": "2022-04-13T10:45:36.396Z"
   },
   {
    "duration": 4,
    "start_time": "2022-04-13T10:55:12.285Z"
   },
   {
    "duration": 975,
    "start_time": "2022-04-13T10:55:12.291Z"
   },
   {
    "duration": 74,
    "start_time": "2022-04-13T10:55:13.268Z"
   },
   {
    "duration": 119,
    "start_time": "2022-04-13T10:55:13.344Z"
   },
   {
    "duration": 538,
    "start_time": "2022-04-13T10:55:13.474Z"
   },
   {
    "duration": 8,
    "start_time": "2022-04-13T10:55:14.014Z"
   },
   {
    "duration": 51,
    "start_time": "2022-04-13T10:55:14.024Z"
   },
   {
    "duration": 114,
    "start_time": "2022-04-13T10:55:14.078Z"
   },
   {
    "duration": 663,
    "start_time": "2022-04-13T10:55:14.194Z"
   },
   {
    "duration": 17,
    "start_time": "2022-04-13T10:55:14.859Z"
   },
   {
    "duration": 61,
    "start_time": "2022-04-13T10:55:14.880Z"
   },
   {
    "duration": 102337,
    "start_time": "2022-04-13T10:55:14.945Z"
   },
   {
    "duration": 381930,
    "start_time": "2022-04-13T10:56:57.284Z"
   },
   {
    "duration": 753153,
    "start_time": "2022-04-13T11:03:19.216Z"
   },
   {
    "duration": 10,
    "start_time": "2022-04-13T11:15:52.371Z"
   },
   {
    "duration": 1952,
    "start_time": "2022-04-13T11:15:52.383Z"
   },
   {
    "duration": 0,
    "start_time": "2022-04-13T11:15:54.336Z"
   },
   {
    "duration": 2317603,
    "start_time": "2022-04-13T11:15:56.206Z"
   },
   {
    "duration": 16988,
    "start_time": "2022-04-13T11:55:15.442Z"
   },
   {
    "duration": 129985,
    "start_time": "2022-04-13T11:56:18.213Z"
   },
   {
    "duration": 705358,
    "start_time": "2022-04-13T12:04:23.899Z"
   },
   {
    "duration": 8,
    "start_time": "2022-04-13T12:21:55.301Z"
   },
   {
    "duration": 1050,
    "start_time": "2022-04-13T12:21:55.320Z"
   },
   {
    "duration": 81,
    "start_time": "2022-04-13T12:21:56.372Z"
   },
   {
    "duration": 163,
    "start_time": "2022-04-13T12:21:56.455Z"
   },
   {
    "duration": 561,
    "start_time": "2022-04-13T12:21:56.620Z"
   },
   {
    "duration": 9,
    "start_time": "2022-04-13T12:21:57.184Z"
   },
   {
    "duration": 52,
    "start_time": "2022-04-13T12:21:57.195Z"
   },
   {
    "duration": 104,
    "start_time": "2022-04-13T12:21:57.249Z"
   },
   {
    "duration": 737,
    "start_time": "2022-04-13T12:21:57.355Z"
   },
   {
    "duration": 9,
    "start_time": "2022-04-13T12:21:58.097Z"
   },
   {
    "duration": 20,
    "start_time": "2022-04-13T12:21:58.108Z"
   },
   {
    "duration": 942722,
    "start_time": "2022-04-13T12:22:13.771Z"
   },
   {
    "duration": 9,
    "start_time": "2022-04-13T12:47:37.797Z"
   },
   {
    "duration": 2036,
    "start_time": "2022-04-13T12:47:45.912Z"
   },
   {
    "duration": 9,
    "start_time": "2022-04-13T12:47:59.447Z"
   },
   {
    "duration": 9,
    "start_time": "2022-04-13T12:48:09.632Z"
   },
   {
    "duration": 180,
    "start_time": "2022-04-13T12:48:18.602Z"
   },
   {
    "duration": 5,
    "start_time": "2022-04-13T12:48:57.036Z"
   },
   {
    "duration": 10,
    "start_time": "2022-04-13T12:50:54.317Z"
   },
   {
    "duration": 11,
    "start_time": "2022-04-13T12:51:09.386Z"
   },
   {
    "duration": 15,
    "start_time": "2022-04-13T12:52:15.019Z"
   },
   {
    "duration": 13,
    "start_time": "2022-04-13T12:52:20.309Z"
   },
   {
    "duration": 12,
    "start_time": "2022-04-13T12:53:45.421Z"
   },
   {
    "duration": 4,
    "start_time": "2022-04-13T12:53:55.157Z"
   },
   {
    "duration": 12,
    "start_time": "2022-04-13T12:54:09.647Z"
   },
   {
    "duration": 10,
    "start_time": "2022-04-13T12:54:22.314Z"
   },
   {
    "duration": 5,
    "start_time": "2022-04-13T12:55:08.309Z"
   },
   {
    "duration": 61,
    "start_time": "2022-04-13T12:55:16.467Z"
   },
   {
    "duration": 64,
    "start_time": "2022-04-13T12:58:09.898Z"
   },
   {
    "duration": 66,
    "start_time": "2022-04-13T12:59:21.629Z"
   },
   {
    "duration": 65,
    "start_time": "2022-04-13T12:59:47.955Z"
   },
   {
    "duration": 67,
    "start_time": "2022-04-13T12:59:54.039Z"
   },
   {
    "duration": 63,
    "start_time": "2022-04-13T12:59:57.405Z"
   },
   {
    "duration": 66,
    "start_time": "2022-04-13T13:00:04.319Z"
   },
   {
    "duration": 64,
    "start_time": "2022-04-13T13:00:18.284Z"
   },
   {
    "duration": 72,
    "start_time": "2022-04-13T13:01:13.659Z"
   },
   {
    "duration": 59,
    "start_time": "2022-04-13T13:01:21.396Z"
   },
   {
    "duration": 59,
    "start_time": "2022-04-13T13:01:40.065Z"
   },
   {
    "duration": 8,
    "start_time": "2022-04-13T13:03:05.809Z"
   },
   {
    "duration": 65,
    "start_time": "2022-04-13T13:08:54.701Z"
   },
   {
    "duration": 61,
    "start_time": "2022-04-13T13:09:19.438Z"
   },
   {
    "duration": 66,
    "start_time": "2022-04-13T13:10:00.015Z"
   },
   {
    "duration": 61,
    "start_time": "2022-04-13T13:11:09.283Z"
   },
   {
    "duration": 54,
    "start_time": "2022-04-13T13:12:39.315Z"
   },
   {
    "duration": 60,
    "start_time": "2022-04-13T13:13:01.542Z"
   },
   {
    "duration": 8,
    "start_time": "2022-04-13T13:13:22.394Z"
   },
   {
    "duration": 8,
    "start_time": "2022-04-13T13:13:45.354Z"
   },
   {
    "duration": 8,
    "start_time": "2022-04-13T13:13:46.663Z"
   },
   {
    "duration": 1846,
    "start_time": "2022-04-13T13:13:49.375Z"
   },
   {
    "duration": 7,
    "start_time": "2022-04-13T13:13:51.914Z"
   },
   {
    "duration": 2022,
    "start_time": "2022-04-13T13:14:05.455Z"
   },
   {
    "duration": 7,
    "start_time": "2022-04-13T13:14:41.246Z"
   },
   {
    "duration": 4,
    "start_time": "2022-04-13T13:15:18.275Z"
   },
   {
    "duration": 1761,
    "start_time": "2022-04-13T13:15:20.958Z"
   },
   {
    "duration": 5,
    "start_time": "2022-04-13T13:15:38.886Z"
   },
   {
    "duration": 55,
    "start_time": "2022-04-13T13:15:59.767Z"
   },
   {
    "duration": 60,
    "start_time": "2022-04-13T13:16:18.979Z"
   },
   {
    "duration": 59,
    "start_time": "2022-04-13T13:16:36.876Z"
   },
   {
    "duration": 59,
    "start_time": "2022-04-13T13:16:48.693Z"
   },
   {
    "duration": 116,
    "start_time": "2022-04-13T13:17:10.787Z"
   },
   {
    "duration": 61,
    "start_time": "2022-04-13T13:17:14.319Z"
   },
   {
    "duration": 61,
    "start_time": "2022-04-13T13:17:26.385Z"
   },
   {
    "duration": 4,
    "start_time": "2022-04-13T13:20:04.657Z"
   },
   {
    "duration": 58,
    "start_time": "2022-04-13T13:22:17.466Z"
   },
   {
    "duration": 59,
    "start_time": "2022-04-13T13:22:23.751Z"
   },
   {
    "duration": 58,
    "start_time": "2022-04-13T13:22:35.566Z"
   },
   {
    "duration": 109,
    "start_time": "2022-04-13T13:23:04.016Z"
   },
   {
    "duration": 121,
    "start_time": "2022-04-13T13:23:28.998Z"
   },
   {
    "duration": 116,
    "start_time": "2022-04-13T13:23:45.830Z"
   },
   {
    "duration": 122,
    "start_time": "2022-04-13T13:24:00.851Z"
   },
   {
    "duration": 59,
    "start_time": "2022-04-13T13:24:09.747Z"
   },
   {
    "duration": 64,
    "start_time": "2022-04-13T13:24:18.719Z"
   },
   {
    "duration": 136072,
    "start_time": "2022-04-13T13:25:01.111Z"
   },
   {
    "duration": 6,
    "start_time": "2022-04-13T13:32:52.349Z"
   },
   {
    "duration": 824,
    "start_time": "2022-04-13T13:32:52.357Z"
   },
   {
    "duration": 52,
    "start_time": "2022-04-13T13:32:53.183Z"
   },
   {
    "duration": 111,
    "start_time": "2022-04-13T13:32:53.237Z"
   },
   {
    "duration": 492,
    "start_time": "2022-04-13T13:32:53.350Z"
   },
   {
    "duration": 9,
    "start_time": "2022-04-13T13:32:53.844Z"
   },
   {
    "duration": 49,
    "start_time": "2022-04-13T13:32:53.855Z"
   },
   {
    "duration": 99,
    "start_time": "2022-04-13T13:32:53.905Z"
   },
   {
    "duration": 595,
    "start_time": "2022-04-13T13:32:54.005Z"
   },
   {
    "duration": 5,
    "start_time": "2022-04-13T13:32:54.602Z"
   },
   {
    "duration": 6,
    "start_time": "2022-04-13T13:32:54.609Z"
   },
   {
    "duration": 13,
    "start_time": "2022-04-13T13:32:54.617Z"
   },
   {
    "duration": 78,
    "start_time": "2022-04-13T13:32:54.632Z"
   },
   {
    "duration": 108965,
    "start_time": "2022-04-13T13:32:54.712Z"
   },
   {
    "duration": 362019,
    "start_time": "2022-04-13T13:34:43.679Z"
   },
   {
    "duration": 76086,
    "start_time": "2022-04-13T13:40:45.700Z"
   },
   {
    "duration": 287,
    "start_time": "2022-04-13T13:42:01.788Z"
   },
   {
    "duration": 4601,
    "start_time": "2022-04-13T13:42:02.077Z"
   },
   {
    "duration": 6,
    "start_time": "2022-04-13T15:44:40.284Z"
   },
   {
    "duration": 845,
    "start_time": "2022-04-13T15:44:40.292Z"
   },
   {
    "duration": 65,
    "start_time": "2022-04-13T15:44:41.139Z"
   },
   {
    "duration": 97,
    "start_time": "2022-04-13T15:44:41.206Z"
   },
   {
    "duration": 487,
    "start_time": "2022-04-13T15:44:41.306Z"
   },
   {
    "duration": 8,
    "start_time": "2022-04-13T15:44:41.796Z"
   },
   {
    "duration": 32,
    "start_time": "2022-04-13T15:44:41.805Z"
   },
   {
    "duration": 112,
    "start_time": "2022-04-13T15:44:41.839Z"
   },
   {
    "duration": 605,
    "start_time": "2022-04-13T15:44:41.952Z"
   },
   {
    "duration": 5,
    "start_time": "2022-04-13T15:44:42.559Z"
   },
   {
    "duration": 5,
    "start_time": "2022-04-13T15:44:42.574Z"
   },
   {
    "duration": 6,
    "start_time": "2022-04-13T15:44:42.581Z"
   },
   {
    "duration": 64,
    "start_time": "2022-04-13T15:44:42.588Z"
   },
   {
    "duration": 103013,
    "start_time": "2022-04-13T15:44:42.672Z"
   },
   {
    "duration": 362122,
    "start_time": "2022-04-13T15:46:25.688Z"
   },
   {
    "duration": 1379583,
    "start_time": "2022-04-13T15:52:27.812Z"
   },
   {
    "duration": 0,
    "start_time": "2022-04-13T16:15:27.397Z"
   },
   {
    "duration": 0,
    "start_time": "2022-04-13T16:15:27.398Z"
   },
   {
    "duration": 5,
    "start_time": "2022-04-13T16:17:29.513Z"
   },
   {
    "duration": 793,
    "start_time": "2022-04-13T16:17:29.580Z"
   },
   {
    "duration": 52,
    "start_time": "2022-04-13T16:17:30.375Z"
   },
   {
    "duration": 111,
    "start_time": "2022-04-13T16:17:30.429Z"
   },
   {
    "duration": 616,
    "start_time": "2022-04-13T16:17:30.542Z"
   },
   {
    "duration": 14,
    "start_time": "2022-04-13T16:17:31.161Z"
   },
   {
    "duration": 28,
    "start_time": "2022-04-13T16:17:31.176Z"
   },
   {
    "duration": 108,
    "start_time": "2022-04-13T16:17:31.206Z"
   },
   {
    "duration": 605,
    "start_time": "2022-04-13T16:17:31.315Z"
   },
   {
    "duration": 5,
    "start_time": "2022-04-13T16:17:31.921Z"
   },
   {
    "duration": 23,
    "start_time": "2022-04-13T16:17:31.928Z"
   },
   {
    "duration": 10,
    "start_time": "2022-04-13T16:17:31.953Z"
   },
   {
    "duration": 65,
    "start_time": "2022-04-13T16:17:31.964Z"
   },
   {
    "duration": 133545,
    "start_time": "2022-04-13T16:17:32.031Z"
   },
   {
    "duration": 350943,
    "start_time": "2022-04-13T16:19:45.579Z"
   },
   {
    "duration": 35462,
    "start_time": "2022-04-13T16:25:36.523Z"
   },
   {
    "duration": 250,
    "start_time": "2022-04-13T16:26:11.987Z"
   },
   {
    "duration": 4343,
    "start_time": "2022-04-13T16:26:12.239Z"
   },
   {
    "duration": 70,
    "start_time": "2022-04-13T20:12:38.348Z"
   },
   {
    "duration": 2501,
    "start_time": "2022-04-13T20:12:52.106Z"
   },
   {
    "duration": 1836,
    "start_time": "2022-04-13T20:12:54.611Z"
   },
   {
    "duration": 141,
    "start_time": "2022-04-13T20:12:56.452Z"
   },
   {
    "duration": 224,
    "start_time": "2022-04-13T20:12:56.596Z"
   },
   {
    "duration": 844,
    "start_time": "2022-04-13T20:12:56.824Z"
   },
   {
    "duration": 8,
    "start_time": "2022-04-13T20:12:57.670Z"
   },
   {
    "duration": 74,
    "start_time": "2022-04-13T20:12:57.681Z"
   },
   {
    "duration": 185,
    "start_time": "2022-04-13T20:12:57.757Z"
   },
   {
    "duration": 947,
    "start_time": "2022-04-13T20:12:57.944Z"
   },
   {
    "duration": 7,
    "start_time": "2022-04-13T20:12:58.893Z"
   },
   {
    "duration": 113,
    "start_time": "2022-04-13T20:13:24.187Z"
   },
   {
    "duration": 8,
    "start_time": "2022-04-13T20:14:38.811Z"
   },
   {
    "duration": 8,
    "start_time": "2022-04-13T20:14:44.642Z"
   },
   {
    "duration": 15,
    "start_time": "2022-04-13T20:15:23.553Z"
   },
   {
    "duration": 6,
    "start_time": "2022-04-13T20:16:12.878Z"
   },
   {
    "duration": 16,
    "start_time": "2022-04-13T20:18:12.001Z"
   },
   {
    "duration": 9,
    "start_time": "2022-04-13T20:18:17.409Z"
   },
   {
    "duration": 18,
    "start_time": "2022-04-13T20:18:32.877Z"
   },
   {
    "duration": 16,
    "start_time": "2022-04-13T20:37:15.987Z"
   }
  ],
  "kernelspec": {
   "display_name": "Python 3.9.13 64-bit (windows store)",
   "language": "python",
   "name": "python3"
  },
  "language_info": {
   "codemirror_mode": {
    "name": "ipython",
    "version": 3
   },
   "file_extension": ".py",
   "mimetype": "text/x-python",
   "name": "python",
   "nbconvert_exporter": "python",
   "pygments_lexer": "ipython3",
   "version": "3.9.13"
  },
  "toc": {
   "base_numbering": 1,
   "nav_menu": {},
   "number_sections": true,
   "sideBar": true,
   "skip_h1_title": true,
   "title_cell": "Содержание",
   "title_sidebar": "Contents",
   "toc_cell": true,
   "toc_position": {},
   "toc_section_display": true,
   "toc_window_display": false
  },
  "vscode": {
   "interpreter": {
    "hash": "591a79bee64ad568ec6f89e3b618efc0f99908eb6ec63c9e71e73f6f1e7a767a"
   }
  }
 },
 "nbformat": 4,
 "nbformat_minor": 2
}
